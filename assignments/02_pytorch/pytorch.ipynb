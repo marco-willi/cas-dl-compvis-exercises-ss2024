{
 "cells": [
  {
   "cell_type": "markdown",
   "id": "6ed26a8b",
   "metadata": {},
   "source": [
    "## CAS Deep Learning - Computer Vision mit Deep Learning (Part 1)"
   ]
  },
  {
   "cell_type": "code",
   "execution_count": null,
   "id": "023f259e-6eb2-44ca-97eb-583122c70572",
   "metadata": {
    "deletable": false,
    "editable": false,
    "nbgrader": {
     "cell_type": "code",
     "checksum": "5343a8dc84bf3bc37afad76813040e73",
     "grade": false,
     "grade_id": "load",
     "locked": true,
     "schema_version": 3,
     "solution": false,
     "task": false
    },
    "tags": []
   },
   "outputs": [],
   "source": [
    "%load_ext autoreload\n",
    "%autoreload 2\n",
    "%matplotlib inline\n",
    "\n",
    "from IPython.core.interactiveshell import InteractiveShell\n",
    "InteractiveShell.ast_node_interactivity = \"all\"\n",
    "\n",
    "try:\n",
    "    import jupyter_black\n",
    "\n",
    "    jupyter_black.load()\n",
    "except:\n",
    "    print(\"black not installed\")"
   ]
  },
  {
   "cell_type": "markdown",
   "id": "0e420152",
   "metadata": {
    "tags": []
   },
   "source": [
    "# Pytorch Intro & Machine Learning\n",
    "\n",
    "## Lernziele\n",
    "\n",
    "- Tensoren: Erstellen, Operationen, Eigenschaften\n",
    "- Daten: Datensätze erstellen, Iterieren, Batches\n",
    "- Machine Learning Modelle: Definieren, Optimieren, Speichern & Laden"
   ]
  },
  {
   "cell_type": "markdown",
   "id": "8227f2c8",
   "metadata": {},
   "source": [
    "## Setup\n",
    "\n",
    "Im Folgenden installieren und laden wir die benötigten Python packages. Danach setzten wir die Pfade für den Zugriff auf Daten und spezifizieren einen Output-Folder."
   ]
  },
  {
   "cell_type": "code",
   "execution_count": null,
   "id": "1f2c3b80",
   "metadata": {
    "tags": []
   },
   "outputs": [],
   "source": [
    "import os\n",
    "from pathlib import Path"
   ]
  },
  {
   "cell_type": "markdown",
   "id": "e7eb9059-e9e0-47f3-867b-0bea6c0284a3",
   "metadata": {},
   "source": [
    "Mount your google drive to store data and results."
   ]
  },
  {
   "cell_type": "code",
   "execution_count": null,
   "id": "f1f85331",
   "metadata": {},
   "outputs": [],
   "source": [
    "try:\n",
    "    import google.colab\n",
    "\n",
    "    IN_COLAB = True\n",
    "except:\n",
    "    IN_COLAB = False\n",
    "\n",
    "print(f\"In colab: {IN_COLAB}\")"
   ]
  },
  {
   "cell_type": "code",
   "execution_count": null,
   "id": "3820b1cd-cf46-4c49-8609-1fa0161584f8",
   "metadata": {},
   "outputs": [],
   "source": [
    "if IN_COLAB:\n",
    "    from google.colab import drive\n",
    "\n",
    "    drive.mount(\"/content/drive\")"
   ]
  },
  {
   "cell_type": "markdown",
   "id": "72eaf73d-60bb-481c-a897-5bd9737899f3",
   "metadata": {},
   "source": [
    "Modifizieren Sie die folgenden Pfade bei Bedarf."
   ]
  },
  {
   "cell_type": "code",
   "execution_count": null,
   "id": "835c3f5e",
   "metadata": {},
   "outputs": [],
   "source": [
    "if IN_COLAB:\n",
    "    DATA_PATH = Path(\"/content/drive/MyDrive/cas-dl-module-compvis-part1\")\n",
    "else:\n",
    "    DATA_PATH = Path(\"../data\")"
   ]
  },
  {
   "cell_type": "markdown",
   "id": "0b036c41-8043-4798-8b73-586833140e4f",
   "metadata": {},
   "source": [
    "Install packages not in base Colab environment."
   ]
  },
  {
   "cell_type": "code",
   "execution_count": null,
   "id": "b752c859-9bb7-4b8d-b868-54911ff34072",
   "metadata": {},
   "outputs": [],
   "source": [
    "if IN_COLAB:\n",
    "    os.system(\"pip install torchshow torchinfo gdown\")"
   ]
  },
  {
   "cell_type": "markdown",
   "id": "87b63396-83cf-47b1-bcab-18a4ca197445",
   "metadata": {},
   "source": [
    "## PyTorch Basics\n",
    "\n",
    "PyTorch ist eine beliebte Deep Learning Library. [`torch.Tensor`](https://pytorch.org/docs/stable/tensors.html) sind multi-dimensionale Arrays und ist die zentrale Datenstruktur in PyTorch um Daten zu repräsentieren und um Berechnungen auszuführen. Im Wesentlichen sehr ähnlich wie `numpy.Array`. Ein `torch.Tensor` kann jedoch einfach auf verschiedene Devices, wie z.B. GPUs geladen werden. \n",
    "\n",
    "Ein guter Blog-Post über die \"Internals\" von PyTorch finden Sie hier: [PyTorch internals](http://blog.ezyang.com/2019/05/pytorch-internals/)"
   ]
  },
  {
   "cell_type": "code",
   "execution_count": null,
   "id": "26544322",
   "metadata": {},
   "outputs": [],
   "source": [
    "import numpy as np\n",
    "import torch"
   ]
  },
  {
   "cell_type": "markdown",
   "id": "24f19206-f196-4158-9f82-e0163d9849a1",
   "metadata": {},
   "source": [
    "### Tensoren erstellen\n",
    "\n",
    "Man kann Tensoren auf verschiedene Arten erzeugen. Zum Beispiel aus Listen:"
   ]
  },
  {
   "cell_type": "code",
   "execution_count": null,
   "id": "7306b448-00ab-4c66-8201-7857ecde6b80",
   "metadata": {
    "tags": []
   },
   "outputs": [],
   "source": [
    "x = torch.tensor([1, 2, 3, 4])\n",
    "print(x)"
   ]
  },
  {
   "cell_type": "code",
   "execution_count": null,
   "id": "e4d79720-353b-4a95-b492-308276eac8c8",
   "metadata": {
    "tags": []
   },
   "outputs": [],
   "source": [
    "x = torch.tensor([[1, 2], [3, 4]])\n",
    "print(x)"
   ]
  },
  {
   "cell_type": "markdown",
   "id": "faa572c6-b219-478b-9244-cc3a955d3c24",
   "metadata": {},
   "source": [
    "Man kann Tensoren auch aus einem `numpy.Array` erstellen."
   ]
  },
  {
   "cell_type": "code",
   "execution_count": null,
   "id": "4fc75761-0ec3-4541-855d-7ed7d96e27af",
   "metadata": {
    "tags": []
   },
   "outputs": [],
   "source": [
    "a = np.array([[1, 2], [2, 4]])\n",
    "b = torch.from_numpy(a)\n",
    "print(b)"
   ]
  },
  {
   "cell_type": "markdown",
   "id": "ca01dac1-9c5c-46dc-9737-fa24cfe2b011",
   "metadata": {},
   "source": [
    "Man kann zufällige Tensoren erstellen."
   ]
  },
  {
   "cell_type": "code",
   "execution_count": null,
   "id": "406904a8-e991-402b-be71-5f12ca87b8f7",
   "metadata": {
    "tags": []
   },
   "outputs": [],
   "source": [
    "x = torch.rand(2, 3)  # Creates a 2x3 tensor with random values between 0 and 1\n",
    "print(x)"
   ]
  },
  {
   "cell_type": "markdown",
   "id": "314b52f2-0caa-479e-93fe-bd353375ba9e",
   "metadata": {},
   "source": [
    "### Tensor Operationen"
   ]
  },
  {
   "cell_type": "markdown",
   "id": "47fae1f6-3456-4922-b27f-794da867511a",
   "metadata": {
    "tags": []
   },
   "source": [
    "Man kann Tensoren miteinander addieren (elementweise)."
   ]
  },
  {
   "cell_type": "code",
   "execution_count": null,
   "id": "ea3b4fd2-66d5-4bc6-a933-28766db62c1b",
   "metadata": {
    "tags": []
   },
   "outputs": [],
   "source": [
    "x = torch.tensor([1, 2, 3])\n",
    "y = torch.tensor([4, 5, 6])\n",
    "z = x + y\n",
    "print(z)"
   ]
  },
  {
   "cell_type": "markdown",
   "id": "06fa2869-24f1-4827-bc00-a421de7d9a14",
   "metadata": {
    "tags": []
   },
   "source": [
    "Tensor Multiplikation (elementweise)."
   ]
  },
  {
   "cell_type": "code",
   "execution_count": null,
   "id": "4e1a7983-8aa0-47fc-b7da-8c0cb9e2992d",
   "metadata": {
    "tags": []
   },
   "outputs": [],
   "source": [
    "z = x * y\n",
    "print(z)"
   ]
  },
  {
   "cell_type": "markdown",
   "id": "10d8c4c5-7246-42fa-8711-a7bb36d1803d",
   "metadata": {
    "tags": []
   },
   "source": [
    "Matrix Multiplikation."
   ]
  },
  {
   "cell_type": "code",
   "execution_count": null,
   "id": "f26fa4e8-bb1d-4668-8f26-40a97056ccdd",
   "metadata": {
    "tags": []
   },
   "outputs": [],
   "source": [
    "mat1 = torch.tensor([[1, 2], [3, 4]])\n",
    "mat2 = torch.tensor([[2, 0], [0, 2]])\n",
    "mat_product = torch.mm(mat1, mat2)\n",
    "print(mat_product)"
   ]
  },
  {
   "cell_type": "markdown",
   "id": "c5d042bb-e42b-4aed-a286-93406b505ae5",
   "metadata": {},
   "source": [
    "Arithmetische Operationen."
   ]
  },
  {
   "cell_type": "code",
   "execution_count": null,
   "id": "89a5a1c7-c99c-43ff-beef-4620cd5472df",
   "metadata": {
    "tags": []
   },
   "outputs": [],
   "source": [
    "x = torch.tensor([[1, 2], [3, 4]])\n",
    "print(x)\n",
    "\n",
    "# Summe über die Zeilen (axis=1 reduziert die Achse 1)\n",
    "x.sum(axis=1)"
   ]
  },
  {
   "cell_type": "markdown",
   "id": "9e34e49f-595d-4902-9596-21d324b734ac",
   "metadata": {},
   "source": [
    "Konvertieren von Datentypen. Dies ist wichtig, weil Neuronale Netzwerke typischerweise mit `float32`oder  `float16` operieren und nicht mit `int`."
   ]
  },
  {
   "cell_type": "code",
   "execution_count": null,
   "id": "1fe380f8-df4b-4b61-8610-90ce8f5f8970",
   "metadata": {
    "tags": []
   },
   "outputs": [],
   "source": [
    "x = torch.tensor([[1, 2], [3, 4]])\n",
    "print(x.dtype)\n",
    "\n",
    "x = x.to(torch.float32)\n",
    "\n",
    "print(x)\n",
    "print(x.dtype)"
   ]
  },
  {
   "cell_type": "markdown",
   "id": "ce28941d-3910-4581-8d66-f01b9bd78bdf",
   "metadata": {
    "tags": []
   },
   "source": [
    "Reshaping von Tensoren."
   ]
  },
  {
   "cell_type": "code",
   "execution_count": null,
   "id": "a088f664-6f1a-4645-92df-d8914b732bb6",
   "metadata": {
    "tags": []
   },
   "outputs": [],
   "source": [
    "initial_tensor = torch.rand(4, 2)\n",
    "print(initial_tensor)\n",
    "\n",
    "reshaped_tensor = initial_tensor.view(2, 4)  # Reshape to 2x4\n",
    "print(reshaped_tensor)\n",
    "\n",
    "flattened_tensor = initial_tensor.view(-1)  # Flatten the tensor\n",
    "print(flattened_tensor)"
   ]
  },
  {
   "cell_type": "markdown",
   "id": "0e604e23-fa80-4cdc-8201-7287bb5add09",
   "metadata": {
    "tags": []
   },
   "source": [
    "Tensoren werden als 1-D arrays abgespeichert. Dabei bestimmt der Stride `x.stride()` wie über die Elemente iteriert wird. Wird ein Tensor reshaped, wird nur der Stride angepasst. Es wird kein neues Objekt generiert."
   ]
  },
  {
   "cell_type": "code",
   "execution_count": null,
   "id": "4701ebc7-e621-44ab-88fe-815a9c8d1e5e",
   "metadata": {
    "tags": []
   },
   "outputs": [],
   "source": [
    "x = torch.rand(2, 3)\n",
    "print(x)\n",
    "x.storage()\n",
    "x.stride()"
   ]
  },
  {
   "cell_type": "code",
   "execution_count": null,
   "id": "bbf1ce9b-76e1-4a37-9c4e-cd851ac662df",
   "metadata": {
    "tags": []
   },
   "outputs": [],
   "source": [
    "y = x.view(3, 2)\n",
    "print(y)\n",
    "y.storage()\n",
    "y.stride()"
   ]
  },
  {
   "cell_type": "markdown",
   "id": "e6c61b35-fbc2-4761-8e9b-845877902de4",
   "metadata": {},
   "source": [
    "Insgesamt gibt es über 100 Operationen, die auf einem Tensor ausgeführt werden können. Die gesamte Liste befindet sich hier: [Link](https://pytorch.org/docs/stable/torch.html)\n"
   ]
  },
  {
   "cell_type": "markdown",
   "id": "f6f7c933-180a-494c-9db9-8aa6301fed20",
   "metadata": {},
   "source": [
    "### Gradienten berechnen"
   ]
  },
  {
   "cell_type": "markdown",
   "id": "e9ad2494-a034-4c0e-af28-1134d746b46c",
   "metadata": {
    "tags": []
   },
   "source": [
    "Berechnung von Gradienten."
   ]
  },
  {
   "cell_type": "code",
   "execution_count": null,
   "id": "d4705d07-e7fb-4e46-af90-e56d2f5763d9",
   "metadata": {
    "tags": []
   },
   "outputs": [],
   "source": [
    "# Create a tensor and specify that we want to compute gradients with respect to it\n",
    "x = torch.tensor(2.0, requires_grad=True)\n",
    "\n",
    "# Define a function of x\n",
    "y = x**3\n",
    "\n",
    "# Compute the gradient of y with respect to x (dy/dx)\n",
    "y.backward()\n",
    "\n",
    "# Print the gradient\n",
    "print(x.grad)"
   ]
  },
  {
   "cell_type": "markdown",
   "id": "9d049d40-8187-4448-825c-fa333295208a",
   "metadata": {},
   "source": [
    "### Eigenschaften von Tensoren"
   ]
  },
  {
   "cell_type": "markdown",
   "id": "19588fdb-e032-45ba-b2f0-6664307a28fd",
   "metadata": {},
   "source": [
    "Die Eigenschaften von einem Tensor kann man inspizieren."
   ]
  },
  {
   "cell_type": "code",
   "execution_count": null,
   "id": "4ad255d9-2392-4adc-b3b5-67a3636d7d5b",
   "metadata": {
    "tags": []
   },
   "outputs": [],
   "source": [
    "x = torch.rand(3, 4)\n",
    "\n",
    "print(f\"Shape of tensor: {x.shape}\")\n",
    "print(f\"Datatype of tensor: {x.dtype}\")\n",
    "print(f\"Device tensor is stored on: {x.device}\")"
   ]
  },
  {
   "cell_type": "markdown",
   "id": "9843266d-e63c-48c8-ab9a-4e15e06962bf",
   "metadata": {},
   "source": [
    "### Tensor Slicing"
   ]
  },
  {
   "cell_type": "code",
   "execution_count": null,
   "id": "2a32a321-c16c-4eec-b499-741c46033eb4",
   "metadata": {
    "tags": []
   },
   "outputs": [],
   "source": [
    "tensor = torch.ones(4, 4)\n",
    "print(f\"First row: {tensor[0]}\")\n",
    "print(f\"First column: {tensor[:, 0]}\")\n",
    "print(f\"Last column: {tensor[:, -1]}\")\n",
    "tensor[:, 1] = 0\n",
    "print(tensor)"
   ]
  },
  {
   "cell_type": "markdown",
   "id": "f8206520",
   "metadata": {
    "deletable": false,
    "editable": false,
    "nbgrader": {
     "cell_type": "markdown",
     "checksum": "48f635082820b144a4ff4a6d234cebd6",
     "grade": false,
     "grade_id": "tensors",
     "locked": true,
     "schema_version": 3,
     "solution": false,
     "task": false
    },
    "tags": []
   },
   "source": [
    "## Bilder & Bild-Datensätze\n",
    "\n",
    "In diesem Teil geht es darum Bilder einzulesen und Bild-Datensätze zu erstellen."
   ]
  },
  {
   "cell_type": "code",
   "execution_count": null,
   "id": "223aff2a",
   "metadata": {},
   "outputs": [],
   "source": [
    "import requests\n",
    "\n",
    "from matplotlib import pyplot as plt\n",
    "from PIL import Image\n",
    "\n",
    "from torch.utils.data import Dataset\n",
    "from torchvision import datasets\n",
    "from torchvision.transforms import ToTensor"
   ]
  },
  {
   "cell_type": "markdown",
   "id": "f24d35d1",
   "metadata": {},
   "source": [
    "### Bilder einlesen"
   ]
  },
  {
   "cell_type": "code",
   "execution_count": null,
   "id": "3e447ee0",
   "metadata": {},
   "outputs": [],
   "source": [
    "url = \"https://github.com/pytorch/vision/blob/main/gallery/assets/dog2.jpg?raw=true\"\n",
    "r = requests.get(url, allow_redirects=True)\n",
    "_ = open(DATA_PATH.joinpath(\"dog.jpg\"), \"wb\").write(r.content)"
   ]
  },
  {
   "cell_type": "markdown",
   "id": "a9fe0909",
   "metadata": {
    "deletable": false,
    "editable": false,
    "nbgrader": {
     "cell_type": "markdown",
     "checksum": "fd62f33ee4914bfd7fe5bab84d53773d",
     "grade": false,
     "grade_id": "tensors1",
     "locked": true,
     "schema_version": 3,
     "solution": false,
     "task": false
    },
    "tags": []
   },
   "source": [
    "1. Lesen Sie das Bild `${DATA_PATH}/dog.jpg` ein mit `PIL.Image.open()`\n",
    "\n",
    "2. Stellen Sie das Bild dar\n"
   ]
  },
  {
   "cell_type": "code",
   "execution_count": null,
   "id": "1404aa06-4539-4da6-8498-3f4c1df12857",
   "metadata": {
    "deletable": false,
    "nbgrader": {
     "cell_type": "code",
     "checksum": "60faf385e9ab715c0482ee8fd2802cb9",
     "grade": true,
     "grade_id": "tensors-1-a",
     "locked": false,
     "points": 0,
     "schema_version": 3,
     "solution": true,
     "task": false
    },
    "tags": []
   },
   "outputs": [],
   "source": [
    "# YOUR CODE HERE\n",
    "raise NotImplementedError()"
   ]
  },
  {
   "cell_type": "markdown",
   "id": "521b6be9",
   "metadata": {
    "deletable": false,
    "editable": false,
    "nbgrader": {
     "cell_type": "markdown",
     "checksum": "9bc66545c86ae9a06ba96bc800a06980",
     "grade": false,
     "grade_id": "tensors-q2",
     "locked": true,
     "schema_version": 3,
     "solution": false,
     "task": false
    },
    "tags": []
   },
   "source": [
    "Erstellen Sie aus dem Bild einen `torch.tensor`. Zeigen Sie dessen `shape` (Dimensionalität)."
   ]
  },
  {
   "cell_type": "code",
   "execution_count": null,
   "id": "c8ccd7ab",
   "metadata": {
    "deletable": false,
    "nbgrader": {
     "cell_type": "code",
     "checksum": "daed408c4d4938b2bf77bcd41cc1c440",
     "grade": true,
     "grade_id": "tensors-a2",
     "locked": false,
     "points": 0,
     "schema_version": 3,
     "solution": true,
     "task": false
    },
    "tags": []
   },
   "outputs": [],
   "source": [
    "# YOUR CODE HERE\n",
    "raise NotImplementedError()"
   ]
  },
  {
   "cell_type": "markdown",
   "id": "d1263a34",
   "metadata": {
    "deletable": false,
    "editable": false,
    "nbgrader": {
     "cell_type": "markdown",
     "checksum": "c355addd05c8082d586ec89b64519474",
     "grade": false,
     "grade_id": "tensors-q3",
     "locked": true,
     "schema_version": 3,
     "solution": false,
     "task": false
    },
    "tags": []
   },
   "source": [
    "Berechnen Sie den Mittelwert über die Farbkanäle. Sie müssen dazu die Achsen spezifizieren, welche Sie wegaggregieren möchten."
   ]
  },
  {
   "cell_type": "code",
   "execution_count": null,
   "id": "eed13e60",
   "metadata": {
    "deletable": false,
    "nbgrader": {
     "cell_type": "code",
     "checksum": "18c88a7220a0aa5304e3c54cdbd02dd4",
     "grade": true,
     "grade_id": "tensors-a3",
     "locked": false,
     "points": 0,
     "schema_version": 3,
     "solution": true,
     "task": false
    },
    "tags": []
   },
   "outputs": [],
   "source": [
    "# YOUR CODE HERE\n",
    "raise NotImplementedError()"
   ]
  },
  {
   "cell_type": "markdown",
   "id": "6b0d5996",
   "metadata": {
    "deletable": false,
    "editable": false,
    "nbgrader": {
     "cell_type": "markdown",
     "checksum": "8e86aec00dd8d3b4698953abf6491219",
     "grade": false,
     "grade_id": "tensors-q4",
     "locked": true,
     "schema_version": 3,
     "solution": false,
     "task": false
    },
    "tags": []
   },
   "source": [
    "Ziehen Sie die Mittelwerte der Farbkanäle den entsprechenden Farbkanälen ab (mean centering). Berechnen Sie dann wieder den Mittelwert um zu zeigen, dass es funktioniert hat."
   ]
  },
  {
   "cell_type": "code",
   "execution_count": null,
   "id": "daef71ab",
   "metadata": {
    "deletable": false,
    "nbgrader": {
     "cell_type": "code",
     "checksum": "399752f18b2d1e160294b39a0fda709f",
     "grade": true,
     "grade_id": "tensors-a4",
     "locked": false,
     "points": 0,
     "schema_version": 3,
     "solution": true,
     "task": false
    },
    "tags": []
   },
   "outputs": [],
   "source": [
    "# YOUR CODE HERE\n",
    "raise NotImplementedError()"
   ]
  },
  {
   "cell_type": "markdown",
   "id": "db29f5e0",
   "metadata": {
    "deletable": false,
    "editable": false,
    "nbgrader": {
     "cell_type": "markdown",
     "checksum": "ab8f6f80a26879e934d32707be47115a",
     "grade": false,
     "grade_id": "daten",
     "locked": true,
     "schema_version": 3,
     "solution": false,
     "task": false
    },
    "tags": []
   },
   "source": [
    "### Datensätze\n",
    "\n",
    "Das Definieren von Datensätzen mit denen ein Modell trainiert werden kann ist ein wichtiger Schritt beim Modellieren von Daten. Im Folgenden werden Sie PyTorch-Klassen verwenden um solche Datensätze zu erstellen.\n",
    "\n",
    "Die folgenden Aufgaben können Sie mit folgender Hilfe lösen: https://pytorch.org/tutorials/beginner/basics/data_tutorial.html\n",
    "\n",
    "Insbesondere sollten Sie die Klassen [`torch.utils.data.Dataset`](https://pytorch.org/docs/stable/data.html#torch.utils.data.Dataset) und [`torch.utils.data.DataLoader`](https://pytorch.org/docs/stable/data.html#torch.utils.data.DataLoader) kennen, verstehen und benutzen können."
   ]
  },
  {
   "cell_type": "markdown",
   "id": "8b7ffe43",
   "metadata": {
    "deletable": false,
    "editable": false,
    "nbgrader": {
     "cell_type": "markdown",
     "checksum": "ac23e3296fd2fec77047438afa8cb099",
     "grade": false,
     "grade_id": "daten-q1",
     "locked": true,
     "schema_version": 3,
     "solution": false,
     "task": false
    },
    "tags": []
   },
   "source": [
    "Erstellen Sie ein `torch.utils.data.Dataset` mit Hilfe von `torchvision.datasets.CIFAR10`."
   ]
  },
  {
   "cell_type": "code",
   "execution_count": null,
   "id": "579d0b69",
   "metadata": {
    "tags": []
   },
   "outputs": [],
   "source": [
    "import torchvision\n",
    "from torchvision import transforms\n",
    "\n",
    "# Transform data to tensor\n",
    "transform = transforms.Compose(\n",
    "    [\n",
    "        transforms.ToTensor(),\n",
    "    ]\n",
    ")\n",
    "\n",
    "# Load CIFAR-10 dataset\n",
    "trainset = torchvision.datasets.CIFAR10(\n",
    "    root=DATA_PATH, train=True, download=True, transform=transform\n",
    ")\n",
    "testset = torchvision.datasets.CIFAR10(\n",
    "    root=DATA_PATH, train=False, download=True, transform=transform\n",
    ")\n",
    "\n",
    "classes = trainset.classes\n",
    "print(classes)"
   ]
  },
  {
   "cell_type": "markdown",
   "id": "c11d77fc",
   "metadata": {
    "deletable": false,
    "editable": false,
    "nbgrader": {
     "cell_type": "markdown",
     "checksum": "371908e363a7edd2e74c226f09c70824",
     "grade": false,
     "grade_id": "daten-q2",
     "locked": true,
     "schema_version": 3,
     "solution": false,
     "task": false
    },
    "tags": []
   },
   "source": [
    "Visualisieren Sie die ersten 16 samples."
   ]
  },
  {
   "cell_type": "code",
   "execution_count": null,
   "id": "e134dafe",
   "metadata": {
    "tags": []
   },
   "outputs": [],
   "source": [
    "import torchshow as ts\n",
    "\n",
    "images, labels = next(\n",
    "    iter(torch.utils.data.DataLoader(trainset, batch_size=16, shuffle=False))\n",
    ")\n",
    "ts.show(images)"
   ]
  },
  {
   "cell_type": "markdown",
   "id": "f3a673e3",
   "metadata": {
    "deletable": false,
    "editable": false,
    "nbgrader": {
     "cell_type": "markdown",
     "checksum": "1df9e2b5f3e449cd0b1eea03bc49eeff",
     "grade": false,
     "grade_id": "daten-custom",
     "locked": true,
     "schema_version": 3,
     "solution": false,
     "task": false
    },
    "tags": []
   },
   "source": [
    "### Custom Datasets\n",
    "\n",
    "Generieren Sie einen Datensatz von Bildern von Katzen und Hunden. Die Bilder sind in `${DATA_ROOT}/cats_vs_dogs.zip` abgelegt. Es sollen sowohl die Bilder, wie auch die Labels ausgegeben werden."
   ]
  },
  {
   "cell_type": "markdown",
   "id": "cf435b19-1e9c-4819-b547-63c905f9421a",
   "metadata": {},
   "source": [
    "Als erstes laden wir die Bilder runter."
   ]
  },
  {
   "cell_type": "code",
   "execution_count": null,
   "id": "823fb081",
   "metadata": {},
   "outputs": [],
   "source": [
    "import gdown\n",
    "\n",
    "file_id = \"1Ga1Qk9__pDVyn2omz850T28x9SasjPip\"\n",
    "url = f\"https://drive.google.com/uc?id={file_id}\"\n",
    "\n",
    "gdown.download(url, str(DATA_PATH.joinpath(\"cats_vs_dogs.zip\")), quiet=False)"
   ]
  },
  {
   "cell_type": "markdown",
   "id": "f8679953-d9a8-445f-a532-4d04ca597e83",
   "metadata": {},
   "source": [
    "Als erstes extrahieren wir die Bilder, z.B. mit der folgenden Zelle."
   ]
  },
  {
   "cell_type": "code",
   "execution_count": null,
   "id": "20e7e262-8a34-4f7c-a8c2-58e3b973a743",
   "metadata": {},
   "outputs": [],
   "source": [
    "CMD = f\"unzip {str(DATA_PATH.joinpath('cats_vs_dogs.zip'))} -d {DATA_PATH}\"\n",
    "os.system(CMD)"
   ]
  },
  {
   "cell_type": "markdown",
   "id": "693c0293-00f9-4d5c-8ca6-6f470a72a084",
   "metadata": {
    "deletable": false,
    "editable": false,
    "nbgrader": {
     "cell_type": "markdown",
     "checksum": "b2afff0083a6c286079ee55d3fc1cbc4",
     "grade": false,
     "grade_id": "data-custom-q1",
     "locked": true,
     "schema_version": 3,
     "solution": false,
     "task": false
    },
    "tags": []
   },
   "source": [
    "Erstellen Sie eine Klasse `CatsAndDogs` die von [`torch.utils.data.Dataset`](https://pytorch.org/docs/stable/data.html#torch.utils.data.Dataset) erbt. Implementieren Sie die Methoden `__len__` und `__getitem__`.  `__getitem__` soll ein Tuple zurückgeben (np.array, np,array) mit Bild und Label. Erstellen Sie danach ein Objekt der Klasse."
   ]
  },
  {
   "cell_type": "code",
   "execution_count": null,
   "id": "0ec64c92",
   "metadata": {
    "deletable": false,
    "nbgrader": {
     "cell_type": "code",
     "checksum": "239edc6741f7cc425f5594faf4bafa2e",
     "grade": true,
     "grade_id": "data-custom-a1",
     "locked": false,
     "points": 0,
     "schema_version": 3,
     "solution": true,
     "task": false
    },
    "tags": []
   },
   "outputs": [],
   "source": [
    "class CatsAndDogs(Dataset):\n",
    "    def __init__(self, image_dir):\n",
    "        self.image_dir = image_dir\n",
    "        self.images = os.listdir(image_dir)\n",
    "        self.labels = [f.split(\".\")[0] for f in self.images]\n",
    "\n",
    "    def __len__(self):\n",
    "        return len(self.images)\n",
    "\n",
    "    def __getitem__(self, idx):\n",
    "        image_path = os.path.join(self.image_dir, self.images[idx])\n",
    "\n",
    "        # this method should return the image and the label of item idx\n",
    "        # image = (...)\n",
    "        # label = (...)\n",
    "        # YOUR CODE HERE\n",
    "        raise NotImplementedError()\n",
    "\n",
    "        return image, label\n",
    "\n",
    "\n",
    "ds = CatsAndDogs(image_dir=DATA_PATH.joinpath(\"cats_vs_dogs\"))"
   ]
  },
  {
   "cell_type": "markdown",
   "id": "216cdfe2-c7ca-4ae7-b9ff-25f0a40211cb",
   "metadata": {
    "deletable": false,
    "editable": false,
    "nbgrader": {
     "cell_type": "markdown",
     "checksum": "9be31caff79c5c01fe032a359b2f5d21",
     "grade": false,
     "grade_id": "data-custom-q2",
     "locked": true,
     "schema_version": 3,
     "solution": false,
     "task": false
    },
    "tags": []
   },
   "source": [
    "Instanzieren Sie nun ein Objekt der Klasse `torch.utils.data.Dataloader` mit dem gerade erstellten Datensatz. Setzen Sie `batch_size=1` und plotten Sie das erste Bild, welches vom DataLoader zurückgegeben wird mit `torchshow.show()`\n",
    "\n",
    "Erhöhen Sie die Batch-Size und probieren Sie das letzte Bild im Batch zu plotten. Was passiert? Warum?"
   ]
  },
  {
   "cell_type": "code",
   "execution_count": null,
   "id": "2977ae88",
   "metadata": {
    "deletable": false,
    "nbgrader": {
     "cell_type": "code",
     "checksum": "5794316714815c710012990ee9b1e152",
     "grade": true,
     "grade_id": "data-custom-a2",
     "locked": false,
     "points": 0,
     "schema_version": 3,
     "solution": true,
     "task": false
    },
    "tags": []
   },
   "outputs": [],
   "source": [
    "from torch.utils.data import DataLoader\n",
    "import torchshow as ts\n",
    "\n",
    "\n",
    "# dataloader = DataLoader(...)\n",
    "# YOUR CODE HERE\n",
    "raise NotImplementedError()\n",
    "\n",
    "for x, y in dataloader:\n",
    "    break\n",
    "\n",
    "ts.show(x[0, :, :, :])"
   ]
  },
  {
   "cell_type": "markdown",
   "id": "cf14d874",
   "metadata": {
    "deletable": false,
    "editable": false,
    "nbgrader": {
     "cell_type": "markdown",
     "checksum": "3d47147c97a45a86690db8d1f4b351fe",
     "grade": false,
     "grade_id": "transf",
     "locked": true,
     "schema_version": 3,
     "solution": false,
     "task": false
    },
    "tags": []
   },
   "source": [
    "## Transformationen\n",
    "\n",
    "Schauen Sie sich [_transforms_](https://pytorch.org/vision/main/transforms.html) an. Erweitern Sie anschliessend die Klasse `CatsAndDogs` so dass _transforms_ angewendet werden können. Diese sind wichtig für [DataAugmentation](https://pytorch.org/vision/stable/transforms.html) und um Inputs zu [normalisieren](https://pytorch.org/vision/main/generated/torchvision.transforms.Normalize.html). Dadurch werden Modelle typischerweise schneller trainiert und generalisieren besser."
   ]
  },
  {
   "cell_type": "markdown",
   "id": "716dcae1",
   "metadata": {
    "deletable": false,
    "editable": false,
    "nbgrader": {
     "cell_type": "markdown",
     "checksum": "d85c726978da1b441eb596081676735a",
     "grade": false,
     "grade_id": "transf-q1",
     "locked": true,
     "schema_version": 3,
     "solution": false,
     "task": false
    },
    "tags": []
   },
   "source": [
    "Erstellen Sie eine [torchvision.transforms.Compose](https://pytorch.org/vision/main/generated/torchvision.transforms.Compose.html) Pipeline mit folgenden Transformationen:\n",
    "\n",
    "- Konvertieren Sie das Bild in einen Tensor, in den Bereich [0, 1]\n",
    "- Rotieren Sie die Bilder zufällig bis zu 45 Grad\n",
    "- Flippen Sie das Bild horizontal, zufällig mit einer Wahrscheinlichkeit von 50%\n",
    "- Normalisieren Sie die Bilder mit folgenden $\\mu$ und $\\sigma$ - Vektoren: (0.4914, 0.4822, 0.4465), (0.247, 0.243, 0.261)\n",
    "- Resizen Sie die Bilder auf (128, 128)\n"
   ]
  },
  {
   "cell_type": "code",
   "execution_count": null,
   "id": "efa7c914",
   "metadata": {
    "deletable": false,
    "nbgrader": {
     "cell_type": "code",
     "checksum": "1a2fb66a43f16edec43b357ca13b2ad6",
     "grade": true,
     "grade_id": "transf-a1",
     "locked": false,
     "points": 0,
     "schema_version": 3,
     "solution": true,
     "task": false
    },
    "tags": []
   },
   "outputs": [],
   "source": [
    "from torchvision import transforms\n",
    "\n",
    "\n",
    "# composed_transforms = transforms.Compose([\n",
    "#     transforms.ToTensor(),\n",
    "#     transforms.RandomRotation(..),\n",
    "#     transforms.RandomHorizontalFlip(..),\n",
    "#     transforms.Normalize(...),\n",
    "#     transforms.Resize(...)\n",
    "# ])\n",
    "\n",
    "# YOUR CODE HERE\n",
    "raise NotImplementedError()"
   ]
  },
  {
   "cell_type": "markdown",
   "id": "2a6eadbe-efe2-4204-b348-e5b810186f1a",
   "metadata": {
    "deletable": false,
    "editable": false,
    "nbgrader": {
     "cell_type": "markdown",
     "checksum": "d7bb49202c6c1b5a9b6394c9e2a921f6",
     "grade": false,
     "grade_id": "transf-q2",
     "locked": true,
     "schema_version": 3,
     "solution": false,
     "task": false
    },
    "tags": []
   },
   "source": [
    "Erweitern Sie die Klasse `CatsAndDogs`, sodass Sie transformationen anwenden können. Erstellen Sie danach ein `Dataset` mit den Transformationen und plotten Sie 9 Bilder."
   ]
  },
  {
   "cell_type": "code",
   "execution_count": null,
   "id": "2ae49b85-7308-4763-a983-91479162b220",
   "metadata": {
    "deletable": false,
    "nbgrader": {
     "cell_type": "code",
     "checksum": "abd6139223e2b78b12eaf9fbbc0012b3",
     "grade": true,
     "grade_id": "transf-a2",
     "locked": false,
     "points": 0,
     "schema_version": 3,
     "solution": true,
     "task": false
    },
    "tags": []
   },
   "outputs": [],
   "source": [
    "class CatsAndDogs(Dataset):\n",
    "\n",
    "    def __init__(self, image_dir, transform=None):\n",
    "        self.image_dir = image_dir\n",
    "        self.images = os.listdir(image_dir)\n",
    "        self.labels = [f.split(\".\")[0] for f in self.images]\n",
    "        self.transform = transform\n",
    "\n",
    "    def __len__(self):\n",
    "        return len(self.images)\n",
    "\n",
    "    def __getitem__(self, idx):\n",
    "\n",
    "        image_path = os.path.join(self.image_dir, self.images[idx])\n",
    "        image = np.array(Image.open(image_path))\n",
    "        label = self.labels[idx]\n",
    "\n",
    "        if self.transform:\n",
    "            # YOUR CODE HERE\n",
    "            raise NotImplementedError()\n",
    "        return image, label\n",
    "\n",
    "\n",
    "ds = CatsAndDogs(\n",
    "    image_dir=DATA_PATH.joinpath(\"cats_vs_dogs\"), transform=composed_transforms\n",
    ")\n",
    "\n",
    "# shorter way to plot images but not quite accurate because scaling is not reversed\n",
    "# though, it is good enough to get an idea about the transformations\n",
    "\n",
    "# images = [ds[i][0] for i in range(0, 5*5)]\n",
    "# ts.show(images, nrows=5)\n",
    "\n",
    "fig, axes = plt.subplots(figsize=(10, 10), nrows=5, ncols=5)\n",
    "for i, ax in enumerate(axes.flatten()):\n",
    "    img, y = ds[i]\n",
    "    img = img.permute(1, 2, 0).numpy()\n",
    "    img *= (0.247, 0.243, 0.261)\n",
    "    img += (0.4914, 0.4822, 0.4465)\n",
    "    img = np.clip(img, 0, 1)\n",
    "    ax.set_axis_off()\n",
    "    ax = ax.imshow(img)"
   ]
  },
  {
   "cell_type": "markdown",
   "id": "c5f71e00-12d4-4271-add3-d588b90b1a69",
   "metadata": {},
   "source": [
    "## Implementing a Logistic Regression\n",
    "\n",
    "In der folgenden Aufgabe implementieren Sie eine logistische Regression. Danach versuchen Sie den [`Fashion-MNIST Datensatz`](https://pytorch.org/vision/0.8/datasets.html#fashion-mnist) Datensatz damit zu modellieren."
   ]
  },
  {
   "cell_type": "markdown",
   "id": "ed1a218a-9b14-4126-b879-a20b5a61a707",
   "metadata": {},
   "source": [
    "### Modell Architektur\n",
    "\n",
    "Definieren Sie die logistische Regression. Ergänzen Sie die folgende Klasse. Erstellen Sie den linearen Layer in der `__init__` Methode und definieren Sie den Forward Pass in `forward()`. Output sollen die untransformierten _logits_ $\\mathbf{Z} \\in \\mathbb{R}^{n \\times k}$ sein (also keine Wahrscheinlichkeitsverteilung).\n",
    "\n",
    "$Z = \\mathbf{X} \\mathbf{W} + \\mathbf{b}$\n",
    "\n",
    "wobei $X \\in \\mathbb{R}^{n \\times p}$ und $W \\in \\mathbb{R}^{p \\times k}$, $k = 10$. Die Bilder haben eine Auflösung von $1 \\times 28 \\times 28$."
   ]
  },
  {
   "cell_type": "code",
   "execution_count": null,
   "id": "f63ee257-ef00-4a23-a6b2-c2b781ba2984",
   "metadata": {
    "deletable": false,
    "nbgrader": {
     "cell_type": "code",
     "checksum": "7563737993b004d7d8053daf0fc574bd",
     "grade": true,
     "grade_id": "cell-287fb0325a229e7f",
     "locked": false,
     "points": 0,
     "schema_version": 3,
     "solution": true,
     "task": false
    }
   },
   "outputs": [],
   "source": [
    "import torch\n",
    "import torch.nn as nn\n",
    "import torch.nn.functional as F\n",
    "import torchinfo\n",
    "\n",
    "\n",
    "class LogisticRegression(nn.Module):\n",
    "\n",
    "    def __init__(self):\n",
    "        super(LogisticRegression, self).__init__()\n",
    "        self.flatten = nn.Flatten()\n",
    "        # self.linear_layer = (...)\n",
    "        # YOUR CODE HERE\n",
    "        raise NotImplementedError()\n",
    "\n",
    "    def forward(self, x):\n",
    "        # YOUR CODE HERE\n",
    "        raise NotImplementedError()\n",
    "\n",
    "\n",
    "net = LogisticRegression()\n",
    "\n",
    "print(torchinfo.summary(net, input_size=(1, 1, 28, 28)))"
   ]
  },
  {
   "cell_type": "markdown",
   "id": "926c61ba-3ad7-44d8-ba72-ccd7312f6231",
   "metadata": {},
   "source": [
    "### Datensatz\n",
    "\n",
    "Nun laden wir den [`Fashion-MNIST Datensatz`](https://pytorch.org/vision/0.8/datasets.html#fashion-mnist). Instanzieren Sie `Dataset` und `DataLoader` für train und test Daten."
   ]
  },
  {
   "cell_type": "code",
   "execution_count": null,
   "id": "fd5ea6f5-f4bc-4240-b11f-a790b20e0c68",
   "metadata": {},
   "outputs": [],
   "source": [
    "import torch\n",
    "import torchvision\n",
    "import torchvision.transforms as transforms\n",
    "from torch.utils.data import DataLoader\n",
    "\n",
    "# Define a transform to normalize the data\n",
    "transform = transforms.Compose(\n",
    "    [transforms.ToTensor(), transforms.Normalize((0.5,), (0.5,))]\n",
    ")\n",
    "\n",
    "# Load the training data\n",
    "train_data = torchvision.datasets.FashionMNIST(\n",
    "    root=DATA_PATH, train=True, download=True, transform=transform\n",
    ")\n",
    "\n",
    "# Load the test data\n",
    "test_data = torchvision.datasets.FashionMNIST(\n",
    "    root=DATA_PATH, train=False, download=True, transform=transform\n",
    ")\n",
    "\n",
    "# Define how to sample and load the training and test data\n",
    "train_loader = DataLoader(train_data, batch_size=64, shuffle=True)\n",
    "\n",
    "test_loader = DataLoader(test_data, batch_size=64, shuffle=False)"
   ]
  },
  {
   "cell_type": "markdown",
   "id": "55e21af2-04fd-4909-b8c6-297ecb1276c9",
   "metadata": {},
   "source": [
    "Visualisieren Sie die ersten 16 Datenpunkte."
   ]
  },
  {
   "cell_type": "code",
   "execution_count": null,
   "id": "71c4233c-bcb5-4a4b-9acb-337234e1d5d5",
   "metadata": {},
   "outputs": [],
   "source": [
    "import torchshow as ts\n",
    "\n",
    "images, labels = next(iter(train_loader))\n",
    "images *= 0.5\n",
    "images += 0.5\n",
    "ts.show(images)"
   ]
  },
  {
   "cell_type": "markdown",
   "id": "c90f9525",
   "metadata": {
    "deletable": false,
    "editable": false,
    "nbgrader": {
     "cell_type": "markdown",
     "checksum": "3b08bc35144983064d8c768c3b359159",
     "grade": false,
     "grade_id": "opt",
     "locked": true,
     "schema_version": 3,
     "solution": false,
     "task": false
    },
    "tags": []
   },
   "source": [
    "### Optimierung / Modell Training\n",
    "\n",
    "Dieser Teil beruht auf: https://pytorch.org/tutorials/beginner/basics/autogradqs_tutorial.html und https://pytorch.org/tutorials/beginner/basics/optimization_tutorial.html\n",
    "\n",
    "Sie werden nun die Parameter von ihrem Modell optimieren / trainieren."
   ]
  },
  {
   "cell_type": "markdown",
   "id": "d392a17d",
   "metadata": {
    "deletable": false,
    "editable": false,
    "nbgrader": {
     "cell_type": "markdown",
     "checksum": "cb3d35f7ffa737e79661d515d1726183",
     "grade": false,
     "grade_id": "opt-q1",
     "locked": true,
     "schema_version": 3,
     "solution": false,
     "task": false
    },
    "tags": []
   },
   "source": [
    "Instanzieren Sie eine geeignete [Loss-Funktion](https://pytorch.org/docs/stable/nn.html#loss-functions).\n",
    "\n",
    "Instanzieren Sie danach einen Stochastic Gradient Descent [Optimizer](https://pytorch.org/docs/stable/optim.html#algorithms). Setzten Sie passende Hyper-Parameter falls nötig (z.B. die `learning_rate`)."
   ]
  },
  {
   "cell_type": "code",
   "execution_count": null,
   "id": "1620cc4b",
   "metadata": {
    "deletable": false,
    "nbgrader": {
     "cell_type": "code",
     "checksum": "a53de3621feb821709c647fcf01a4ae1",
     "grade": true,
     "grade_id": "opt-a1",
     "locked": false,
     "points": 0,
     "schema_version": 3,
     "solution": true,
     "task": false
    },
    "tags": []
   },
   "outputs": [],
   "source": [
    "# learning_rate = (...)\n",
    "# loss_fn = (...)\n",
    "# optimizer = (...)\n",
    "\n",
    "# YOUR CODE HERE\n",
    "raise NotImplementedError()"
   ]
  },
  {
   "cell_type": "markdown",
   "id": "72fba758",
   "metadata": {
    "deletable": false,
    "editable": false,
    "nbgrader": {
     "cell_type": "markdown",
     "checksum": "01b3e9a2357ca5a1f82d1dc4f7f649a5",
     "grade": false,
     "grade_id": "opt-q2",
     "locked": true,
     "schema_version": 3,
     "solution": false,
     "task": false
    },
    "tags": []
   },
   "source": [
    "Erstellen Sie einen Loop der über die Batches vom dataloader iteriert. Innerhalb vom Loop soll folgendes gemacht werden:\n",
    "\n",
    "- Forward Pass\n",
    "- Loss berechnen\n",
    "- Backpropagation\n",
    "- Parameter-Updates\n",
    "- Print von Loss und Accuracy (z.B. mit tqdm package für progress-bars)\n",
    "\n",
    "Erstellen Sie eine Funktion die das Modell für eine Epoche trainiert (`train_one_epoch()`).\n",
    "\n",
    "Trainieren Sie danach das Modell für 1 Epoche."
   ]
  },
  {
   "cell_type": "code",
   "execution_count": null,
   "id": "fb549406",
   "metadata": {
    "deletable": false,
    "nbgrader": {
     "cell_type": "code",
     "checksum": "5b640de6792b4005115d795b2375f387",
     "grade": true,
     "grade_id": "opt-a2",
     "locked": false,
     "points": 0,
     "schema_version": 3,
     "solution": true,
     "task": false
    },
    "tags": []
   },
   "outputs": [],
   "source": [
    "from tqdm.notebook import tqdm\n",
    "\n",
    "torch.manual_seed(123)\n",
    "\n",
    "\n",
    "def train_one_epoch(dataloader, net, optimizer, loss_fn):\n",
    "\n",
    "    with tqdm(dataloader, unit=\"batch\") as tepoch:\n",
    "        correct_epoch = 0\n",
    "        total_epoch = 0\n",
    "        for i, (X, y) in enumerate(tepoch):\n",
    "\n",
    "            # Compute prediction and loss\n",
    "            # YOUR CODE HERE\n",
    "            raise NotImplementedError()\n",
    "\n",
    "            # Backpropagation und Weight Updates\n",
    "            # YOUR CODE HERE\n",
    "            raise NotImplementedError()\n",
    "\n",
    "            # Compute Batch Metric\n",
    "            y_hat = probs.argmax(dim=1, keepdim=True).squeeze()\n",
    "            correct = (y_hat == y).sum().item()\n",
    "            accuracy = correct / X.shape[0]\n",
    "\n",
    "            # Compute Epoch Metric\n",
    "            correct_epoch += correct\n",
    "            total_epoch += X.shape[0]\n",
    "            accuracy_epoch = correct_epoch / total_epoch\n",
    "\n",
    "            tepoch.set_postfix(\n",
    "                loss=loss.item(),\n",
    "                accuracy_batch=accuracy * 100,\n",
    "                accuracy_epoch=accuracy_epoch * 100,\n",
    "            )\n",
    "\n",
    "\n",
    "train_one_epoch(train_loader, net, optimizer, loss_fn)"
   ]
  },
  {
   "cell_type": "markdown",
   "id": "81ea5127",
   "metadata": {
    "deletable": false,
    "editable": false,
    "nbgrader": {
     "cell_type": "markdown",
     "checksum": "3a2434b38100f0a3b762cc014acc9b65",
     "grade": false,
     "grade_id": "opt-q3",
     "locked": true,
     "schema_version": 3,
     "solution": false,
     "task": false
    },
    "tags": []
   },
   "source": [
    "Implementieren Sie einen Loop über mehrere Epochen und trainieren Sie das Modell für 3 Epochen."
   ]
  },
  {
   "cell_type": "code",
   "execution_count": null,
   "id": "479087d3",
   "metadata": {
    "deletable": false,
    "nbgrader": {
     "cell_type": "code",
     "checksum": "8abde4f85a96be3234b47ece60c15656",
     "grade": true,
     "grade_id": "opt-a3",
     "locked": false,
     "points": 0,
     "schema_version": 3,
     "solution": true,
     "task": false
    },
    "tags": []
   },
   "outputs": [],
   "source": [
    "# YOUR CODE HERE\n",
    "raise NotImplementedError()"
   ]
  },
  {
   "cell_type": "markdown",
   "id": "7ebb9328",
   "metadata": {
    "deletable": false,
    "editable": false,
    "nbgrader": {
     "cell_type": "markdown",
     "checksum": "44a44f6b6182e834a659caec6bdaff50",
     "grade": false,
     "grade_id": "save",
     "locked": true,
     "schema_version": 3,
     "solution": false,
     "task": false
    },
    "tags": []
   },
   "source": [
    "### Model Save / Load\n",
    "\n",
    "Dieser Teil beruht auf: https://pytorch.org/tutorials/beginner/basics/saveloadrun_tutorial.html\n",
    "\n",
    "Hier noch weitere Infos zum `state_dict`: https://pytorch.org/tutorials/recipes/recipes/what_is_state_dict.html"
   ]
  },
  {
   "cell_type": "markdown",
   "id": "93255c09",
   "metadata": {
    "deletable": false,
    "editable": false,
    "nbgrader": {
     "cell_type": "markdown",
     "checksum": "e3edfe052cbdd1513049eefe20020907",
     "grade": false,
     "grade_id": "save-q1",
     "locked": true,
     "schema_version": 3,
     "solution": false,
     "task": false
    },
    "tags": []
   },
   "source": [
    "Speichern Sie ihr trainiertes Modell und den Optimizer."
   ]
  },
  {
   "cell_type": "code",
   "execution_count": null,
   "id": "6e9460a2",
   "metadata": {
    "deletable": false,
    "nbgrader": {
     "cell_type": "code",
     "checksum": "45f507be3e666bb97955a0481c32b3a9",
     "grade": true,
     "grade_id": "save-a1",
     "locked": false,
     "points": 0,
     "schema_version": 3,
     "solution": true,
     "task": false
    },
    "tags": []
   },
   "outputs": [],
   "source": [
    "# YOUR CODE HERE\n",
    "raise NotImplementedError()"
   ]
  },
  {
   "cell_type": "markdown",
   "id": "4d795fe9",
   "metadata": {
    "deletable": false,
    "editable": false,
    "nbgrader": {
     "cell_type": "markdown",
     "checksum": "34024f314d897ff24a2f82b902fc9da0",
     "grade": false,
     "grade_id": "save-q2",
     "locked": true,
     "schema_version": 3,
     "solution": false,
     "task": false
    },
    "tags": []
   },
   "source": [
    "Löschen Sie nun Modell und Optimizer Objekt. Danach erstellen Sie die Objekte wieder und laden die Parameter.\n",
    "\n",
    "\n",
    "Trainieren Sie das Modell danach für eine weitere Epoche. Das Modell sollte dort weiterlernen wo es vorhin aufgehört hat."
   ]
  },
  {
   "cell_type": "code",
   "execution_count": null,
   "id": "1f066fd2-0d9d-4502-8357-649a4f4f33e1",
   "metadata": {
    "deletable": false,
    "nbgrader": {
     "cell_type": "code",
     "checksum": "c0ec58a46e5ff99cd3b1ab9ce002cde7",
     "grade": true,
     "grade_id": "save-a2",
     "locked": false,
     "points": 0,
     "schema_version": 3,
     "solution": true,
     "task": false
    },
    "tags": []
   },
   "outputs": [],
   "source": [
    "del net\n",
    "del optimizer\n",
    "# YOUR CODE HERE\n",
    "raise NotImplementedError()\n",
    "train_one_epoch(train_loader, net, optimizer, loss_fn)"
   ]
  },
  {
   "cell_type": "markdown",
   "id": "11a353d2-2490-4a85-96f5-c5b786c81992",
   "metadata": {
    "tags": []
   },
   "source": [
    "## Modell Selektion\n",
    "\n",
    "Ein wichtiges Thema in Machine Learning ist die Modell-Selektion. Dabei geht es darum das best mögliche Modell für ein Problem zu identifizieren. Dabei vergleicht man verschiedene Modelle (z.B. mit unterschiedlicher Architektur) miteinander und wählt das beste aus. Dazu benötigt man ein Validation Set, mit dem die Modelle miteinander verglichen werden.\n",
    "\n",
    "Die folgende Funktion illustriert wie man ein Modell evaluieren kann."
   ]
  },
  {
   "cell_type": "code",
   "execution_count": null,
   "id": "c9ddcd58-5f61-4653-9f24-7d487a01a33f",
   "metadata": {},
   "outputs": [],
   "source": [
    "dataloader = DataLoader(test_data, batch_size=32, shuffle=True, drop_last=False)\n",
    "\n",
    "\n",
    "def evaluate(model, dataloader, criterion):\n",
    "    model.eval()\n",
    "    total_loss = 0.0\n",
    "    correct = 0\n",
    "    total = 0\n",
    "    with torch.no_grad():\n",
    "        for images, labels in dataloader:\n",
    "            outputs = model(images)\n",
    "            loss = criterion(outputs, labels)\n",
    "            total_loss += loss.item()\n",
    "            _, predicted = outputs.max(1)\n",
    "            total += labels.size(0)\n",
    "            correct += predicted.eq(labels).sum().item()\n",
    "    accuracy = 100 * correct / total\n",
    "    return total_loss / len(dataloader), accuracy\n",
    "\n",
    "\n",
    "criterion = nn.CrossEntropyLoss()\n",
    "test_loss, test_accuracy = evaluate(net, dataloader, criterion)\n",
    "print(f\"Test Loss: {test_loss:.2f}, Test Accuracy: {test_accuracy:.2f}%\")"
   ]
  },
  {
   "cell_type": "markdown",
   "id": "83b08d60",
   "metadata": {
    "deletable": false,
    "editable": false,
    "nbgrader": {
     "cell_type": "markdown",
     "checksum": "fc501c9f51eeb9cddb24764c297ea6e4",
     "grade": false,
     "grade_id": "misc",
     "locked": true,
     "schema_version": 3,
     "solution": false,
     "task": false
    },
    "tags": []
   },
   "source": [
    "## Weitere Themen\n",
    "\n",
    "GPU-Training: So nutzen Sie Ihre GPU: https://pytorch.org/tutorials/beginner/blitz/cifar10_tutorial.html#training-on-gpu"
   ]
  },
  {
   "cell_type": "markdown",
   "id": "46d651b4",
   "metadata": {
    "deletable": false,
    "editable": false,
    "nbgrader": {
     "cell_type": "markdown",
     "checksum": "20dcafe6e7a6869abbcc14e2c069c35a",
     "grade": false,
     "grade_id": "mlp-q1",
     "locked": true,
     "schema_version": 3,
     "solution": false,
     "task": false
    },
    "tags": []
   },
   "source": [
    "Definieren Sie eine Klasse, die von `torch.nn.Module` erbt und definieren Sie Ihr Netzwerk. Erstellen Sie einen Hidden-Layer mit 128 Nodes und ReLU Aktivierungs-Funktion. Verwenden Sie eine `Softmax-Aktivierung` für den Output-Layer. Instanzieren Sie das Netzwerk und printen Sie das Objekt."
   ]
  }
 ],
 "metadata": {
  "kernelspec": {
   "display_name": "Python 3 (ipykernel)",
   "language": "python",
   "name": "python3"
  },
  "language_info": {
   "codemirror_mode": {
    "name": "ipython",
    "version": 3
   },
   "file_extension": ".py",
   "mimetype": "text/x-python",
   "name": "python",
   "nbconvert_exporter": "python",
   "pygments_lexer": "ipython3",
   "version": "3.11.9"
  },
  "vscode": {
   "interpreter": {
    "hash": "d4d1e4263499bec80672ea0156c357c1ee493ec2b1c70f0acce89fc37c4a6abe"
   }
  }
 },
 "nbformat": 4,
 "nbformat_minor": 5
}
