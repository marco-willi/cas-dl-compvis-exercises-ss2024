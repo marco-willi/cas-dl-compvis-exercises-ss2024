{
 "cells": [
  {
   "cell_type": "markdown",
   "metadata": {},
   "source": [
    "## CAS Deep Learning - Computer Vision mit Deep Learning (Part 1)"
   ]
  },
  {
   "cell_type": "code",
   "execution_count": null,
   "metadata": {
    "deletable": false,
    "editable": false,
    "nbgrader": {
     "cell_type": "code",
     "checksum": "f10f19697935a18db955753fdc25539f",
     "grade": false,
     "grade_id": "header",
     "locked": true,
     "schema_version": 3,
     "solution": false,
     "task": false
    },
    "tags": []
   },
   "outputs": [],
   "source": [
    "%load_ext autoreload\n",
    "%autoreload 2\n",
    "%matplotlib inline\n",
    "\n",
    "from IPython.core.interactiveshell import InteractiveShell\n",
    "InteractiveShell.ast_node_interactivity = \"all\""
   ]
  },
  {
   "cell_type": "markdown",
   "metadata": {
    "deletable": false,
    "editable": false,
    "nbgrader": {
     "cell_type": "markdown",
     "checksum": "5fa43331f96594411312c1ba7d5c82e9",
     "grade": false,
     "grade_id": "title",
     "locked": true,
     "schema_version": 3,
     "solution": false,
     "task": false
    },
    "tags": []
   },
   "source": [
    "# Convolutional Neural Networks\n",
    "\n",
    "## Lernziele\n",
    "\n",
    "- Convolutions: Anwenden auf Bilder\n",
    "- CNNs: Definieren, Optimieren, Inspizieren"
   ]
  },
  {
   "cell_type": "markdown",
   "metadata": {
    "deletable": false,
    "editable": false,
    "nbgrader": {
     "cell_type": "markdown",
     "checksum": "7f7bcfb2ce644d624acaebbe1f3b3c67",
     "grade": false,
     "grade_id": "cell-a9856bbf98ea570f",
     "locked": true,
     "schema_version": 3,
     "solution": false,
     "task": false
    }
   },
   "source": [
    "## Setup\n",
    "\n",
    "Im Folgenden installieren und laden wir die benötigten Python packages. Danach setzten wir die Pfade für den Zugriff auf Daten und spezifizieren einen Output-Folder."
   ]
  },
  {
   "cell_type": "code",
   "execution_count": null,
   "metadata": {
    "deletable": false,
    "editable": false,
    "nbgrader": {
     "cell_type": "code",
     "checksum": "bce791b7343c4ea54a5e764d57d57d7f",
     "grade": false,
     "grade_id": "imports",
     "locked": true,
     "schema_version": 3,
     "solution": false,
     "task": false
    },
    "tags": []
   },
   "outputs": [],
   "source": [
    "import os\n",
    "from pathlib import Path\n",
    "\n",
    "from matplotlib import pyplot as plt\n",
    "import numpy as np\n",
    "import pandas as pd\n",
    "from PIL import Image\n",
    "import torch\n",
    "from tqdm.notebook import tqdm"
   ]
  },
  {
   "cell_type": "markdown",
   "metadata": {},
   "source": [
    "Mount your google drive to store data and results."
   ]
  },
  {
   "cell_type": "code",
   "execution_count": null,
   "metadata": {},
   "outputs": [],
   "source": [
    "try:\n",
    "  import google.colab\n",
    "  IN_COLAB = True\n",
    "except:\n",
    "  IN_COLAB = False\n",
    "\n",
    "print(f\"In colab: {IN_COLAB}\")"
   ]
  },
  {
   "cell_type": "code",
   "execution_count": null,
   "metadata": {},
   "outputs": [],
   "source": [
    "if IN_COLAB:\n",
    "    from google.colab import drive\n",
    "    drive.mount('/content/drive')"
   ]
  },
  {
   "cell_type": "markdown",
   "metadata": {},
   "source": [
    "Modifizieren Sie die folgenden Pfade bei Bedarf."
   ]
  },
  {
   "cell_type": "code",
   "execution_count": null,
   "metadata": {},
   "outputs": [],
   "source": [
    "if IN_COLAB:\n",
    "    DATA_PATH = Path('/content/drive/MyDrive/bverI/data')\n",
    "else:\n",
    "    DATA_PATH = Path('../data')"
   ]
  },
  {
   "cell_type": "markdown",
   "metadata": {},
   "source": [
    "Install packages not in base Colab environment."
   ]
  },
  {
   "cell_type": "code",
   "execution_count": null,
   "metadata": {},
   "outputs": [],
   "source": [
    "if IN_COLAB:\n",
    "    os.system(\"pip install torchshow torchinfo gdown\")\n",
    "import torchshow as ts"
   ]
  },
  {
   "cell_type": "markdown",
   "metadata": {},
   "source": [
    "## Convolutions in PyTorch\n",
    "\n",
    "Als erstes schauen wir an wie wir _convonlutions_ auf Bilder anwenden.\n",
    "\n",
    "Dazu lesen wir ein Bild ein."
   ]
  },
  {
   "cell_type": "code",
   "execution_count": null,
   "metadata": {},
   "outputs": [],
   "source": [
    "import io\n",
    "import requests\n",
    "\n",
    "url = \"https://github.com/pytorch/vision/blob/main/gallery/assets/dog2.jpg?raw=true\"\n",
    "r = requests.get(url, allow_redirects=True)\n",
    "image = Image.open(io.BytesIO(r.content))\n",
    "\n",
    "image"
   ]
  },
  {
   "cell_type": "markdown",
   "metadata": {},
   "source": [
    "Wir können nun _convolutions_ durchführen. Dazu gibt es zwei Möglichkeiten:\n",
    "\n",
    "- _functional_ Ansatz, mit Funktionen, die _stateless_ sind [nn.functional](https://pytorch.org/docs/stable/nn.functional.html)\n",
    "- mit Modulen (Objekten), welche einen _state_ haben und beim Einsatz in neuronalen Netzwerken verwendet werden [torch.nn.Conv2d](https://pytorch.org/docs/stable/generated/torch.nn.Conv2d.html)"
   ]
  },
  {
   "cell_type": "code",
   "execution_count": null,
   "metadata": {},
   "outputs": [],
   "source": [
    "import torch\n",
    "from torch.nn import functional as F\n",
    "from torchvision.transforms import functional as TF\n",
    "\n",
    "# convert PIL.Image to torch.tensor (takes care of channel format -> CHW)\n",
    "input = TF.pil_to_tensor(image).float() / 255.0\n",
    "\n",
    "# define filter by hand\n",
    "filter = filter = torch.tensor(\n",
    "    [   [[1, 0, -1], [1, 0, -1], [1, 0, -1]], # R\n",
    "        [[1, 0, -1], [1, 0, -1], [1, 0, -1]], # G\n",
    "        [[1, 0, -1], [1, 0, -1], [1, 0, -1]], # B\n",
    "    ]).unsqueeze(0).float()\n",
    "\n",
    "ts.show(filter, show_axis=False)"
   ]
  },
  {
   "cell_type": "code",
   "execution_count": null,
   "metadata": {},
   "outputs": [],
   "source": [
    "# functional approach\n",
    "result = F.conv2d(input, filter, stride=1, padding=0, dilation=1, groups=1)\n",
    "\n",
    "# rescale result to visualize it as an image\n",
    "result_scaled = (result - result.min()) / (result.max() - result.min())\n",
    "\n",
    "ts.show(result_scaled)"
   ]
  },
  {
   "cell_type": "markdown",
   "metadata": {},
   "source": [
    "Nun führen wir eine _convolution_ mit einem _module_ aus. [torch.nn.Conv2d](https://pytorch.org/docs/stable/generated/torch.nn.Conv2d.html)"
   ]
  },
  {
   "cell_type": "code",
   "execution_count": null,
   "metadata": {},
   "outputs": [],
   "source": [
    "# module\n",
    "conv = torch.nn.Conv2d(in_channels=3, out_channels=1, kernel_size=3, stride=1, padding=0, dilation=1, groups=1)\n",
    "\n",
    "result = conv(input)\n",
    "\n",
    "# rescale result to visualize it as an image\n",
    "result_scaled = (result - result.min()) / (result.max() - result.min())\n",
    "\n",
    "\n",
    "ts.show(result_scaled)"
   ]
  },
  {
   "cell_type": "markdown",
   "metadata": {
    "deletable": false,
    "editable": false,
    "nbgrader": {
     "cell_type": "markdown",
     "checksum": "76632afaa6a9048681709c996861b90a",
     "grade": false,
     "grade_id": "cell-dfdbcda98b2ef9b2",
     "locked": true,
     "schema_version": 3,
     "solution": false,
     "task": false
    }
   },
   "source": [
    "**Frage**: Was ist der Unterschied zwischen _functional_ und _module_ Ansatz? Was passiert beim _module_ Ansatz?"
   ]
  },
  {
   "cell_type": "markdown",
   "metadata": {
    "deletable": false,
    "nbgrader": {
     "cell_type": "markdown",
     "checksum": "b35c5f45b306409bba2b57873c54ff54",
     "grade": true,
     "grade_id": "cell-f5c47ead81e89eb2",
     "locked": false,
     "points": 0,
     "schema_version": 3,
     "solution": true,
     "task": false
    }
   },
   "source": [
    "YOUR ANSWER HERE"
   ]
  },
  {
   "cell_type": "markdown",
   "metadata": {},
   "source": [
    "Wenden Sie nun folgende Operationen an auf dem Bild. Alles mit dem _functional_ Ansatz.\n",
    "\n",
    "- Convolution\n",
    "- Max Pooling\n",
    "- Convolution\n",
    "\n",
    "Sie können den Filter von oben verwenden. Falls das geht."
   ]
  },
  {
   "cell_type": "code",
   "execution_count": null,
   "metadata": {
    "deletable": false,
    "nbgrader": {
     "cell_type": "code",
     "checksum": "a0fc1fbfabd5952943714278a9d21638",
     "grade": true,
     "grade_id": "cell-f6d5d5c659007899",
     "locked": false,
     "points": 0,
     "schema_version": 3,
     "solution": true,
     "task": false
    }
   },
   "outputs": [],
   "source": [
    "# YOUR CODE HERE\n",
    "raise NotImplementedError()"
   ]
  },
  {
   "cell_type": "markdown",
   "metadata": {},
   "source": [
    "## CNN auf MNIST (graustufen Bilder)\n",
    "\n",
    "Im Folgenden werden wir ein CNN auf graustufen Bildern trainieren und einige Eigenschaften von CNNs überprüfen."
   ]
  },
  {
   "cell_type": "markdown",
   "metadata": {},
   "source": [
    "### Datensatz\n",
    "\n",
    "Wir erstellen nun eine modifizierte Variante vom MNIST Datensatz."
   ]
  },
  {
   "cell_type": "code",
   "execution_count": null,
   "metadata": {},
   "outputs": [],
   "source": [
    "from functools import partial\n",
    "\n",
    "import torch\n",
    "import torchvision\n",
    "from torchvision import transforms\n",
    "\n",
    "from torch.nn import functional as F\n",
    "\n",
    "# Define a transform to pad the images to the right and bottom quadrants with zeros (black pixels)\n",
    "def mnist_transform(image, position=\"top_left\"):\n",
    "    # Convert the image to a tensor\n",
    "    image_tensor = transforms.ToTensor()(image)\n",
    "\n",
    "    if position == \"top_left\":\n",
    "        output_tensor= F.pad(image_tensor, (0, 28, 0, 28), \"constant\", 0)\n",
    "    elif position == \"bottom_right\":\n",
    "        output_tensor= F.pad(image_tensor, (28, 0, 28, 0), \"constant\", 0)\n",
    "    return output_tensor\n",
    "\n",
    "# Create the MNIST dataset with the custom transform\n",
    "mnist_dataset_train = torchvision.datasets.MNIST(\n",
    "    root=DATA_PATH,\n",
    "    train=True,\n",
    "    download=True,\n",
    "    transform=lambda x: mnist_transform(x, position=\"top_left\")\n",
    ")\n",
    "\n",
    "# Create the MNIST dataset with the custom transform\n",
    "mnist_dataset_test_tl = torchvision.datasets.MNIST(\n",
    "    root=DATA_PATH,\n",
    "    train=False,\n",
    "    download=True,\n",
    "    transform=lambda x: mnist_transform(x, position=\"top_left\")\n",
    ")\n",
    "\n",
    "# Create the MNIST dataset with the custom transform\n",
    "mnist_dataset_test_br = torchvision.datasets.MNIST(\n",
    "    root=DATA_PATH,\n",
    "    train=False,\n",
    "    download=True,\n",
    "    transform=lambda x: mnist_transform(x, position=\"bottom_right\")\n",
    ")"
   ]
  },
  {
   "cell_type": "markdown",
   "metadata": {},
   "source": [
    "Nun schauen wir uns einige Datenpunkte an."
   ]
  },
  {
   "cell_type": "code",
   "execution_count": null,
   "metadata": {},
   "outputs": [],
   "source": [
    "mnist_train = torch.utils.data.DataLoader(\n",
    "    mnist_dataset_train, batch_size=12, shuffle=True, num_workers=4)\n",
    "\n",
    "# Let's check the first batch\n",
    "images, labels = next(iter(mnist_train))\n",
    "import torchshow\n",
    "ts.show(images)"
   ]
  },
  {
   "cell_type": "markdown",
   "metadata": {
    "deletable": false,
    "editable": false,
    "nbgrader": {
     "cell_type": "markdown",
     "checksum": "b7b200210335edff8bfd3ec2695d3178",
     "grade": false,
     "grade_id": "cell-093dfa37667fda26",
     "locked": true,
     "schema_version": 3,
     "solution": false,
     "task": false
    }
   },
   "source": [
    "**Frage**: Was fällt auf?"
   ]
  },
  {
   "cell_type": "markdown",
   "metadata": {
    "deletable": false,
    "nbgrader": {
     "cell_type": "markdown",
     "checksum": "e76f105aca21f30a28485585a2a6b315",
     "grade": true,
     "grade_id": "cell-0e0e186c30b81d8a",
     "locked": false,
     "points": 0,
     "schema_version": 3,
     "solution": true,
     "task": false
    }
   },
   "source": [
    "YOUR ANSWER HERE"
   ]
  },
  {
   "cell_type": "markdown",
   "metadata": {},
   "source": [
    "### Definition CNN\n",
    "\n",
    "Definieren Sie ein CNN mit folgender Architektur:\n",
    "\n",
    "- Input Shape: (1, 28 *  2, 28 *2)\n",
    "- Convolution: 8 Filters, Kernel-Size 5x5\n",
    "- Max Pooling: Stride 2, Kernel-Size 2\n",
    "- Convolution: 16 Filter, Kernel-Size 5x5\n",
    "- Max Pooling: Stride 2, Kernel-Size 2\n",
    "- FC: 32 Neuronen\n",
    "- FC: 16 Neuronen\n",
    "- FC: 10 Neuronen (für 10 Klassen)\n",
    "\n",
    "Benutzen Sie ReLU Aktivierungen nach jedem Layer.\n",
    "\n",
    "Definieren Sie eine Klasse, die von `torch.nn.Module` erbt und instanzieren Sie Ihr Netzwerk."
   ]
  },
  {
   "cell_type": "code",
   "execution_count": null,
   "metadata": {
    "deletable": false,
    "nbgrader": {
     "cell_type": "code",
     "checksum": "3f843a507957a34051332abd3c17f433",
     "grade": true,
     "grade_id": "cell-6c456bb869bd831b",
     "locked": false,
     "points": 0,
     "schema_version": 3,
     "solution": true,
     "task": false
    }
   },
   "outputs": [],
   "source": [
    "import torch.nn as nn\n",
    "import torch.nn.functional as F\n",
    "import torchinfo\n",
    "\n",
    "\n",
    "class Net(nn.Module):\n",
    "    def __init__(self, num_channel=8):\n",
    "        super().__init__()\n",
    "        # self.conv1 = nn.Conv2d(...)\n",
    "        # self.pool = nn.Maxnn.MaxPool2d(...)\n",
    "        # ...\n",
    "        # YOUR CODE HERE\n",
    "        raise NotImplementedError()\n",
    "\n",
    "    def forward(self, x):\n",
    "        # x = self....\n",
    "        # x = self....\n",
    "        # YOUR CODE HERE\n",
    "        raise NotImplementedError()\n",
    "\n",
    "    \n",
    "\n",
    "net = Net()\n",
    "\n",
    "print(net)\n",
    "print(torchinfo.summary(net, input_size=(1, 1, 56, 56)))\n"
   ]
  },
  {
   "cell_type": "markdown",
   "metadata": {
    "deletable": false,
    "editable": false,
    "nbgrader": {
     "cell_type": "markdown",
     "checksum": "7b21f9d461049f8119c3c312c158a3a6",
     "grade": false,
     "grade_id": "cell-26e0c1522d99aab7",
     "locked": true,
     "schema_version": 3,
     "solution": false,
     "task": false
    },
    "tags": []
   },
   "source": [
    "### Trainieren eines CNN\n",
    "\n",
    "Wir werden später noch genauer sehen, warum wir die folgenden Objekte benötigen. Diese definieren die _Loss_ Funktion und den Optimisierungsalgorithmus."
   ]
  },
  {
   "cell_type": "code",
   "execution_count": null,
   "metadata": {
    "deletable": false,
    "nbgrader": {
     "cell_type": "code",
     "checksum": "e98e2129a6c9f52a433eff5ec258e5af",
     "grade": true,
     "grade_id": "cell-aa418fcc5649d483",
     "locked": false,
     "points": 0,
     "schema_version": 3,
     "solution": true,
     "task": false
    },
    "tags": []
   },
   "outputs": [],
   "source": [
    "# YOUR CODE HERE\n",
    "raise NotImplementedError()"
   ]
  },
  {
   "cell_type": "markdown",
   "metadata": {
    "deletable": false,
    "editable": false,
    "nbgrader": {
     "cell_type": "markdown",
     "checksum": "3a8537edc40872796640d8ebce1866fc",
     "grade": false,
     "grade_id": "cell-39475ff98a1f8585",
     "locked": true,
     "schema_version": 3,
     "solution": false,
     "task": false
    },
    "tags": []
   },
   "source": [
    "Wir erstellen nun einen Trainingsloop für unser Modell und trainieren dieses gleich."
   ]
  },
  {
   "cell_type": "code",
   "execution_count": null,
   "metadata": {
    "deletable": false,
    "nbgrader": {
     "cell_type": "code",
     "checksum": "33f4b6dbdf0fa4e5e54e5275cfaf54c9",
     "grade": true,
     "grade_id": "cell-85bfe06c60e3e3fb",
     "locked": false,
     "points": 0,
     "schema_version": 3,
     "solution": true,
     "task": false
    },
    "tags": []
   },
   "outputs": [],
   "source": [
    "# YOUR CODE HERE\n",
    "raise NotImplementedError()"
   ]
  },
  {
   "cell_type": "markdown",
   "metadata": {},
   "source": [
    "Wir evaluieren unser Modell auf den Testdaten.\n"
   ]
  },
  {
   "cell_type": "code",
   "execution_count": null,
   "metadata": {},
   "outputs": [],
   "source": [
    "testloader_tl = torch.utils.data.DataLoader(\n",
    "    mnist_dataset_test_tl, batch_size=32, shuffle=False)\n",
    "\n",
    "images, labels = next(iter(testloader_tl))\n",
    "\n",
    "ts.show(images)"
   ]
  },
  {
   "cell_type": "code",
   "execution_count": null,
   "metadata": {},
   "outputs": [],
   "source": [
    "with torch.no_grad():\n",
    "    predictions = F.softmax(net.forward(images), -1).argmax(-1)\n",
    "\n",
    "accuracy = (predictions == labels).to(float).mean()\n",
    "\n",
    "print(f\"Accuracy: {accuracy:.2f}\")"
   ]
  },
  {
   "cell_type": "markdown",
   "metadata": {},
   "source": [
    "Nun verwenden wir die folgenden Testdaten."
   ]
  },
  {
   "cell_type": "code",
   "execution_count": null,
   "metadata": {},
   "outputs": [],
   "source": [
    "testloader_br = torch.utils.data.DataLoader(\n",
    "    mnist_dataset_test_br, batch_size=32, shuffle=False)\n",
    "\n",
    "images, labels = next(iter(testloader_br))\n",
    "\n",
    "ts.show(images)"
   ]
  },
  {
   "cell_type": "markdown",
   "metadata": {
    "deletable": false,
    "editable": false,
    "nbgrader": {
     "cell_type": "markdown",
     "checksum": "7f2572cd25ef5320a007e4549bb9fb55",
     "grade": false,
     "grade_id": "cell-f7485417fbb9276a",
     "locked": true,
     "schema_version": 3,
     "solution": false,
     "task": false
    }
   },
   "source": [
    "**Frage**: Was schätzen Sie? Wie gut ist das Modell in diesem Fall?"
   ]
  },
  {
   "cell_type": "markdown",
   "metadata": {
    "deletable": false,
    "nbgrader": {
     "cell_type": "markdown",
     "checksum": "0d56745fd568d3755fbde9a288fded63",
     "grade": true,
     "grade_id": "cell-96937920a74c9c52",
     "locked": false,
     "points": 0,
     "schema_version": 3,
     "solution": true,
     "task": false
    }
   },
   "source": [
    "YOUR ANSWER HERE"
   ]
  },
  {
   "cell_type": "markdown",
   "metadata": {},
   "source": [
    "Überprüfen Sie Ihre Antwort:"
   ]
  },
  {
   "cell_type": "code",
   "execution_count": null,
   "metadata": {},
   "outputs": [],
   "source": [
    "with torch.no_grad():\n",
    "    predictions = F.softmax(net.forward(images), -1).argmax(-1)\n",
    "\n",
    "accuracy = (predictions == labels).to(float).mean()\n",
    "\n",
    "print(f\"Accuracy: {accuracy:.2f}\")"
   ]
  },
  {
   "cell_type": "markdown",
   "metadata": {},
   "source": [
    "**Frage**: Sind Sie überrascht? Was ist passiert?"
   ]
  },
  {
   "cell_type": "markdown",
   "metadata": {
    "deletable": false,
    "nbgrader": {
     "cell_type": "markdown",
     "checksum": "df4698506273c7c88fa27ef8cbbae5d8",
     "grade": true,
     "grade_id": "cell-778cf7e249a95e3a",
     "locked": false,
     "points": 0,
     "schema_version": 3,
     "solution": true,
     "task": false
    }
   },
   "source": [
    "YOUR ANSWER HERE"
   ]
  }
 ],
 "metadata": {
  "kernelspec": {
   "display_name": "Python 3 (ipykernel)",
   "language": "python",
   "name": "python3"
  },
  "language_info": {
   "codemirror_mode": {
    "name": "ipython",
    "version": 3
   },
   "file_extension": ".py",
   "mimetype": "text/x-python",
   "name": "python",
   "nbconvert_exporter": "python",
   "pygments_lexer": "ipython3",
   "version": "3.11.9"
  },
  "vscode": {
   "interpreter": {
    "hash": "d4d1e4263499bec80672ea0156c357c1ee493ec2b1c70f0acce89fc37c4a6abe"
   }
  }
 },
 "nbformat": 4,
 "nbformat_minor": 4
}
